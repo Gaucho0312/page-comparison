{
 "cells": [
  {
   "cell_type": "code",
   "execution_count": 1,
   "metadata": {},
   "outputs": [],
   "source": [
    "import sklearn\n",
    "import numpy as np\n",
    "import wikipedia\n",
    "from sklearn.feature_extraction.text import CountVectorizer"
   ]
  },
  {
   "cell_type": "code",
   "execution_count": 2,
   "metadata": {},
   "outputs": [
    {
     "name": "stdout",
     "output_type": "stream",
     "text": [
      "<WikipediaPage 'Copenhagen Business School'> <WikipediaPage 'Sport'> <WikipediaPage 'Football'> <WikipediaPage 'University'>\n"
     ]
    }
   ],
   "source": [
    "w1 = wikipedia.page(\"Copenhagen Business School\")\n",
    "w2 = wikipedia.page(\"Sport\")\n",
    "w3 = wikipedia.page(\"Football\")\n",
    "w4 = wikipedia.page(\"University\")\n",
    "print(w1, w2, w3, w4)"
   ]
  },
  {
   "cell_type": "code",
   "execution_count": 3,
   "metadata": {},
   "outputs": [],
   "source": [
    "P = np.array(CountVectorizer().fit_transform([w1.content, w2.content, w3.content, w4.content]).todense())"
   ]
  },
  {
   "cell_type": "code",
   "execution_count": 4,
   "metadata": {},
   "outputs": [],
   "source": [
    "def cosine_comparison(x, y):\n",
    "    return np.dot(x, y) / (np.sqrt(np.dot(x, x)) * np.sqrt(np.dot(y, y)))"
   ]
  },
  {
   "cell_type": "code",
   "execution_count": 5,
   "metadata": {},
   "outputs": [
    {
     "name": "stdout",
     "output_type": "stream",
     "text": [
      "CBS - Sport: 0.7232662215884628\n",
      "CBS - Football: 0.7064379845941158\n",
      "CBS - University: 0.8025143226761574\n"
     ]
    }
   ],
   "source": [
    "print(\"CBS - Sport:\", cosine_comparison(P[0], P[1]))\n",
    "print(\"CBS - Football:\", cosine_comparison(P[0], P[2]))\n",
    "print(\"CBS - University:\", cosine_comparison(P[0], P[3]))\n"
   ]
  },
  {
   "cell_type": "code",
   "execution_count": null,
   "metadata": {},
   "outputs": [],
   "source": []
  }
 ],
 "metadata": {
  "kernelspec": {
   "display_name": "Python 3",
   "language": "python",
   "name": "python3"
  },
  "language_info": {
   "codemirror_mode": {
    "name": "ipython",
    "version": 3
   },
   "file_extension": ".py",
   "mimetype": "text/x-python",
   "name": "python",
   "nbconvert_exporter": "python",
   "pygments_lexer": "ipython3",
   "version": "3.9.13"
  }
 },
 "nbformat": 4,
 "nbformat_minor": 4
}
